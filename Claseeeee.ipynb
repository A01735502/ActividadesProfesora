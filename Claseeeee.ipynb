{
  "nbformat": 4,
  "nbformat_minor": 0,
  "metadata": {
    "colab": {
      "provenance": [],
      "authorship_tag": "ABX9TyPFMZwAO7Aci/upu/yeA57J",
      "include_colab_link": true
    },
    "kernelspec": {
      "name": "python3",
      "display_name": "Python 3"
    },
    "language_info": {
      "name": "python"
    }
  },
  "cells": [
    {
      "cell_type": "markdown",
      "metadata": {
        "id": "view-in-github",
        "colab_type": "text"
      },
      "source": [
        "<a href=\"https://colab.research.google.com/github/A01735502/ActividadesProfesora/blob/main/Claseeeee.ipynb\" target=\"_parent\"><img src=\"https://colab.research.google.com/assets/colab-badge.svg\" alt=\"Open In Colab\"/></a>"
      ]
    },
    {
      "cell_type": "code",
      "execution_count": 1,
      "metadata": {
        "colab": {
          "base_uri": "https://localhost:8080/"
        },
        "id": "XQy8Tp4F94Rn",
        "outputId": "3630a703-7034-46f5-f9a2-1e2e66c7cf59"
      },
      "outputs": [
        {
          "output_type": "stream",
          "name": "stdout",
          "text": [
            "(838, 9)\n"
          ]
        }
      ],
      "source": [
        "import pandas as pd\n",
        "df=pd.read_csv(\"trainLimpio.csv\")\n",
        "print(df.shape)"
      ]
    },
    {
      "cell_type": "code",
      "source": [
        "##frecuencia para dato cualitatitivo\n",
        "\n",
        "tabla_clases = df['Pclass'].value_counts()\n",
        "print(tabla_clases.sort_index())"
      ],
      "metadata": {
        "colab": {
          "base_uri": "https://localhost:8080/"
        },
        "id": "j5jBWhqS-j4v",
        "outputId": "968aa492-8f2e-4a2f-cd6f-5237932b7c9d"
      },
      "execution_count": 6,
      "outputs": [
        {
          "output_type": "stream",
          "name": "stdout",
          "text": [
            "Pclass\n",
            "1    209\n",
            "2    181\n",
            "3    448\n",
            "Name: count, dtype: int64\n"
          ]
        }
      ]
    },
    {
      "cell_type": "code",
      "source": [
        "print(max(df['Age']))\n",
        "print(min(df['Age']))"
      ],
      "metadata": {
        "colab": {
          "base_uri": "https://localhost:8080/"
        },
        "id": "xUMOPJCb-1kD",
        "outputId": "aca1ef8e-2847-4c6e-abf8-19694a13f066"
      },
      "execution_count": 9,
      "outputs": [
        {
          "output_type": "stream",
          "name": "stdout",
          "text": [
            "80.0\n",
            "0.75\n"
          ]
        }
      ]
    },
    {
      "cell_type": "code",
      "source": [
        "edad=pd.cut(df['Age'], bins=8).value_counts()\n",
        "print(edad.sort_index())"
      ],
      "metadata": {
        "colab": {
          "base_uri": "https://localhost:8080/"
        },
        "collapsed": true,
        "id": "dHxWHMRh_jgI",
        "outputId": "7f87d858-d6eb-452a-b8e6-a0205bfa4847"
      },
      "execution_count": 14,
      "outputs": [
        {
          "output_type": "stream",
          "name": "stdout",
          "text": [
            "Age\n",
            "(0.671, 10.656]      66\n",
            "(10.656, 20.562]    136\n",
            "(20.562, 30.469]    281\n",
            "(30.469, 40.375]    183\n",
            "(40.375, 50.281]    103\n",
            "(50.281, 60.188]     45\n",
            "(60.188, 70.094]     19\n",
            "(70.094, 80.0]        5\n",
            "Name: count, dtype: int64\n"
          ]
        }
      ]
    },
    {
      "cell_type": "code",
      "source": [],
      "metadata": {
        "id": "otaX0mhxAI8m"
      },
      "execution_count": null,
      "outputs": []
    }
  ]
}